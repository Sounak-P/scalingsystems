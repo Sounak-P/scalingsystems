{
 "cells": [
  {
   "cell_type": "code",
   "execution_count": 18,
   "metadata": {},
   "outputs": [],
   "source": [
    "import pandas as pd\n",
    "\n",
    "from sklearn.model_selection import train_test_split\n",
    "from sklearn.preprocessing import LabelEncoder\n",
    "import xgboost\n",
    "\n",
    "import mlflow\n",
    "from mlflow.data.pandas_dataset import PandasDataset\n"
   ]
  },
  {
   "cell_type": "code",
   "execution_count": 19,
   "metadata": {},
   "outputs": [],
   "source": [
    "\n",
    "mlflow.set_tracking_uri(\"http://localhost:5000\")\n",
    "\n",
    "dataset_source_url = \"https://raw.githubusercontent.com/mlflow/mlflow/master/tests/datasets/winequality-white.csv\"\n",
    "raw_data = pd.read_csv(dataset_source_url, delimiter=\";\")\n",
    "\n",
    "# Extract the features and target data separately\n",
    "y = raw_data[\"quality\"]\n",
    "X = raw_data.drop(\"quality\", axis=1)\n",
    "\n",
    "# Split the data into training and test sets\n",
    "X_train, X_test, y_train, y_test = train_test_split(\n",
    "    X, y, test_size=0.35, random_state=34\n",
    ")\n",
    "\n"
   ]
  },
  {
   "cell_type": "code",
   "execution_count": 20,
   "metadata": {},
   "outputs": [],
   "source": [
    "# Create a label encoder object\n",
    "le = LabelEncoder()\n",
    "\n",
    "# Fit and transform the target variable\n",
    "y_train_encoded = le.fit_transform(y_train)\n",
    "y_test_encoded = le.transform(y_test)\n",
    "\n",
    "# Fit an XGBoost binary classifier on the training data split\n",
    "model = xgboost.XGBClassifier().fit(X_train, y_train_encoded)\n",
    "\n",
    "# Build the Evaluation Dataset from the test set\n",
    "y_test_pred = model.predict(X=X_test)\n",
    "\n",
    "eval_data = X_test\n",
    "eval_data[\"label\"] = y_test\n",
    "\n",
    "# Assign the decoded predictions to the Evaluation Dataset\n",
    "eval_data[\"predictions\"] = le.inverse_transform(y_test_pred)\n",
    "\n",
    "# Create the PandasDataset for use in mlflow evaluate\n",
    "pd_dataset = mlflow.data.from_pandas(\n",
    "    eval_data, predictions=\"predictions\", targets=\"label\"\n",
    ")\n"
   ]
  },
  {
   "cell_type": "code",
   "execution_count": null,
   "metadata": {},
   "outputs": [],
   "source": [
    "mlflow.set_experiment(\"White Wine Quality Demo\")\n",
    "# Log the Dataset, model, and execute an evaluation run using the configured Dataset\n",
    "with mlflow.start_run() as run:\n",
    "    mlflow.log_input(pd_dataset, context=\"training\")\n",
    "\n",
    "    mlflow.xgboost.log_model(\n",
    "        artifact_path=\"white-wine-xgb\", xgb_model=model, \n",
    "        input_example=X_test,\n",
    "        registered_model_name=\"white-wine-xgb-model\"\n",
    "    )\n",
    "\n",
    "    result = mlflow.evaluate(data=pd_dataset, predictions=None, model_type=\"classifier\")"
   ]
  },
  {
   "cell_type": "code",
   "execution_count": null,
   "metadata": {},
   "outputs": [],
   "source": [
    "result.metrics"
   ]
  },
  {
   "cell_type": "code",
   "execution_count": null,
   "metadata": {},
   "outputs": [],
   "source": []
  }
 ],
 "metadata": {
  "kernelspec": {
   "display_name": "coding",
   "language": "python",
   "name": "python3"
  },
  "language_info": {
   "codemirror_mode": {
    "name": "ipython",
    "version": 3
   },
   "file_extension": ".py",
   "mimetype": "text/x-python",
   "name": "python",
   "nbconvert_exporter": "python",
   "pygments_lexer": "ipython3",
   "version": "3.11.9"
  }
 },
 "nbformat": 4,
 "nbformat_minor": 2
}
