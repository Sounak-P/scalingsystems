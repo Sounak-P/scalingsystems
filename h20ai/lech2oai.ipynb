{
 "cells": [
  {
   "cell_type": "code",
   "execution_count": null,
   "metadata": {},
   "outputs": [],
   "source": [
    "import h2o\n",
    "from h2o.automl import H2OAutoML, get_leaderboard"
   ]
  },
  {
   "cell_type": "code",
   "execution_count": null,
   "metadata": {},
   "outputs": [],
   "source": [
    "import pandas as pd\n",
    "import json\n",
    "\n",
    "from sklearn.metrics import f1_score, accuracy_score"
   ]
  },
  {
   "cell_type": "code",
   "execution_count": null,
   "metadata": {},
   "outputs": [],
   "source": [
    "# Start the H2O cluster (locally)\n",
    "h2o.init()"
   ]
  },
  {
   "cell_type": "code",
   "execution_count": null,
   "metadata": {},
   "outputs": [],
   "source": [
    "# Import data directly as H2O frame\n",
    "main_frame = h2o.import_file(path='data/processed/train.csv')\n",
    "\n",
    "# Save data types of columns in H2O frame (for matching with test set during prediction)\n",
    "with open('data/processed/train_col_types.json', 'w') as fp:\n",
    "    json.dump(main_frame.types, fp)"
   ]
  },
  {
   "cell_type": "code",
   "execution_count": null,
   "metadata": {},
   "outputs": [],
   "source": [
    "# Set predictor and target columns\n",
    "target = 'Response'\n",
    "predictors = [n for n in main_frame.col_names if n != target]\n",
    "\n",
    "# Factorize target variable so that autoML tackles classification problem (instead of regression)\n",
    "main_frame[target] = main_frame[target].asfactor()\n",
    "\n",
    "# Visualize H2O frame structure\n",
    "main_frame.head()"
   ]
  },
  {
   "cell_type": "code",
   "execution_count": null,
   "metadata": {},
   "outputs": [],
   "source": [
    "aml = H2OAutoML(\n",
    "                    max_models=2, # Run AutoML for n base models\n",
    "                    seed=42, \n",
    "                    balance_classes=True, # Our target classes are imbalanced, so we set this to True\n",
    "                    sort_metric='logloss', # Sort models by logloss (main metric for multi-classification)\n",
    "                    verbosity='info', # Turn on verbose info\n",
    "                    exclude_algos = ['GBM','GLM', 'DRF','StackedEnsemble','DeepLearning'], # Specify which algorithms to exclude\n",
    "                   )"
   ]
  },
  {
   "cell_type": "code",
   "execution_count": null,
   "metadata": {},
   "outputs": [],
   "source": [
    "aml.train(x=predictors, y=target, training_frame=main_frame)"
   ]
  },
  {
   "cell_type": "code",
   "execution_count": null,
   "metadata": {},
   "outputs": [],
   "source": [
    "# Get AutoML event log\n",
    "log = aml.event_log\n",
    "log"
   ]
  },
  {
   "cell_type": "code",
   "execution_count": null,
   "metadata": {},
   "outputs": [],
   "source": [
    "# Leader (best) model stored here\n",
    "aml.leader"
   ]
  },
  {
   "cell_type": "code",
   "execution_count": null,
   "metadata": {},
   "outputs": [],
   "source": []
  }
 ],
 "metadata": {
  "kernelspec": {
   "display_name": "coding",
   "language": "python",
   "name": "python3"
  },
  "language_info": {
   "codemirror_mode": {
    "name": "ipython",
    "version": 3
   },
   "file_extension": ".py",
   "mimetype": "text/x-python",
   "name": "python",
   "nbconvert_exporter": "python",
   "pygments_lexer": "ipython3",
   "version": "3.1.-1"
  }
 },
 "nbformat": 4,
 "nbformat_minor": 2
}
